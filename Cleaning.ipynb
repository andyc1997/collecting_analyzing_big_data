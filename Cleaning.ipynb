{
 "cells": [
  {
   "cell_type": "markdown",
   "id": "5f4899ae",
   "metadata": {},
   "source": [
    "### <font color='black'>Data cleaning</font>\n",
    "\n",
    "<font color='#404040'>In this notebook, we will clean and summarize the data with appropriate techniques. The goal is to generate dataset for machine learning.</font>"
   ]
  },
  {
   "cell_type": "code",
   "execution_count": 1,
   "id": "0598e956",
   "metadata": {},
   "outputs": [],
   "source": [
    "import pandas as pd\n",
    "import ast\n",
    "import missingno"
   ]
  },
  {
   "cell_type": "markdown",
   "id": "f1eb100e",
   "metadata": {},
   "source": [
    "### <font color='black'>Import data</font>\n",
    "\n",
    "<font color='#404040'>First, we import data collected in the previous notebook with relative paths. Then, we sample some observations to develop an initial understanding for the dataset.</font>"
   ]
  },
  {
   "cell_type": "code",
   "execution_count": 2,
   "id": "109d8c3b",
   "metadata": {},
   "outputs": [],
   "source": [
    "# Read data\n",
    "dat_oxford = pd.read_csv('./data/oxford.csv')\n",
    "dat_edinburgh = pd.read_csv('./data/edinburgh.csv')\n",
    "dat_warwick = pd.read_csv('./data/warwick.csv')"
   ]
  },
  {
   "cell_type": "markdown",
   "id": "7ba7e65e",
   "metadata": {},
   "source": [
    "<font color='#404040'>The first line consists of column headers, including name, data, degree and review categories. Not all categories are properly filled. Some of them are missing entries.</font>"
   ]
  },
  {
   "cell_type": "code",
   "execution_count": 3,
   "id": "9df1f3eb",
   "metadata": {
    "scrolled": false
   },
   "outputs": [
    {
     "data": {
      "text/html": [
       "<div>\n",
       "<style scoped>\n",
       "    .dataframe tbody tr th:only-of-type {\n",
       "        vertical-align: middle;\n",
       "    }\n",
       "\n",
       "    .dataframe tbody tr th {\n",
       "        vertical-align: top;\n",
       "    }\n",
       "\n",
       "    .dataframe thead th {\n",
       "        text-align: right;\n",
       "    }\n",
       "</style>\n",
       "<table border=\"1\" class=\"dataframe\">\n",
       "  <thead>\n",
       "    <tr style=\"text-align: right;\">\n",
       "      <th></th>\n",
       "      <th>name</th>\n",
       "      <th>date</th>\n",
       "      <th>degree</th>\n",
       "      <th>score_OVERALL UNIVERSITY RATING</th>\n",
       "      <th>OVERALL UNIVERSITY RATING</th>\n",
       "      <th>score_Job Prospects</th>\n",
       "      <th>Job Prospects</th>\n",
       "      <th>score_Course and Lecturers</th>\n",
       "      <th>Course and Lecturers</th>\n",
       "      <th>score_Uni Facilities</th>\n",
       "      <th>...</th>\n",
       "      <th>score_Do you think your time at university this year has been value for money?</th>\n",
       "      <th>Do you think your time at university this year has been value for money?</th>\n",
       "      <th>score_Students' Union</th>\n",
       "      <th>Students' Union</th>\n",
       "      <th>score_Accommodation</th>\n",
       "      <th>Accommodation</th>\n",
       "      <th>score_Local life</th>\n",
       "      <th>Local life</th>\n",
       "      <th>score_Societies and Sports</th>\n",
       "      <th>Societies and Sports</th>\n",
       "    </tr>\n",
       "  </thead>\n",
       "  <tbody>\n",
       "    <tr>\n",
       "      <th>329</th>\n",
       "      <td>Student Reviewer</td>\n",
       "      <td>24 Feb 15</td>\n",
       "      <td>History</td>\n",
       "      <td>rat4</td>\n",
       "      <td>{'Tell us about your overall university experi...</td>\n",
       "      <td>rat4</td>\n",
       "      <td>NaN</td>\n",
       "      <td>rat4</td>\n",
       "      <td>NaN</td>\n",
       "      <td>rat3</td>\n",
       "      <td>...</td>\n",
       "      <td>NaN</td>\n",
       "      <td>NaN</td>\n",
       "      <td>rat1</td>\n",
       "      <td>NaN</td>\n",
       "      <td>rat5</td>\n",
       "      <td>NaN</td>\n",
       "      <td>rat5</td>\n",
       "      <td>NaN</td>\n",
       "      <td>rat4</td>\n",
       "      <td>NaN</td>\n",
       "    </tr>\n",
       "    <tr>\n",
       "      <th>42</th>\n",
       "      <td>Sarah</td>\n",
       "      <td>22 Jan 20</td>\n",
       "      <td>Mathematics and Computer Science MMath</td>\n",
       "      <td>rat3</td>\n",
       "      <td>{'Tell us about your overall university experi...</td>\n",
       "      <td>rat3</td>\n",
       "      <td>NaN</td>\n",
       "      <td>rat3</td>\n",
       "      <td>NaN</td>\n",
       "      <td>rat4</td>\n",
       "      <td>...</td>\n",
       "      <td>NaN</td>\n",
       "      <td>NaN</td>\n",
       "      <td>rat1</td>\n",
       "      <td>NaN</td>\n",
       "      <td>rat4</td>\n",
       "      <td>NaN</td>\n",
       "      <td>rat5</td>\n",
       "      <td>NaN</td>\n",
       "      <td>rat3</td>\n",
       "      <td>NaN</td>\n",
       "    </tr>\n",
       "    <tr>\n",
       "      <th>324</th>\n",
       "      <td>Student Reviewer</td>\n",
       "      <td>24 Feb 15</td>\n",
       "      <td>Georgraphy</td>\n",
       "      <td>rat4</td>\n",
       "      <td>{'Tell us about your overall university experi...</td>\n",
       "      <td>rat4</td>\n",
       "      <td>NaN</td>\n",
       "      <td>rat4</td>\n",
       "      <td>NaN</td>\n",
       "      <td>rat3</td>\n",
       "      <td>...</td>\n",
       "      <td>NaN</td>\n",
       "      <td>NaN</td>\n",
       "      <td>rat3</td>\n",
       "      <td>NaN</td>\n",
       "      <td>rat4</td>\n",
       "      <td>NaN</td>\n",
       "      <td>rat4</td>\n",
       "      <td>NaN</td>\n",
       "      <td>rat4</td>\n",
       "      <td>NaN</td>\n",
       "    </tr>\n",
       "    <tr>\n",
       "      <th>30</th>\n",
       "      <td>Laurie</td>\n",
       "      <td>24 Jan 20</td>\n",
       "      <td>Mathematics MMath</td>\n",
       "      <td>rat4</td>\n",
       "      <td>{'Tell us about your overall university experi...</td>\n",
       "      <td>rat4</td>\n",
       "      <td>{'How does your uni make efforts to increase y...</td>\n",
       "      <td>rat4</td>\n",
       "      <td>NaN</td>\n",
       "      <td>rat5</td>\n",
       "      <td>...</td>\n",
       "      <td>NaN</td>\n",
       "      <td>NaN</td>\n",
       "      <td>rat2</td>\n",
       "      <td>{\"What do you think of your Students' Union in...</td>\n",
       "      <td>rat3</td>\n",
       "      <td>{'What do you think about the safety, conditio...</td>\n",
       "      <td>rat5</td>\n",
       "      <td>NaN</td>\n",
       "      <td>rat5</td>\n",
       "      <td>NaN</td>\n",
       "    </tr>\n",
       "    <tr>\n",
       "      <th>152</th>\n",
       "      <td>Student Reviewer</td>\n",
       "      <td>12 Jan 18</td>\n",
       "      <td>Economics MPhil</td>\n",
       "      <td>rat4</td>\n",
       "      <td>{'Tell us about your overall university experi...</td>\n",
       "      <td>rat1</td>\n",
       "      <td>{'How does your uni make efforts to increase y...</td>\n",
       "      <td>rat3</td>\n",
       "      <td>NaN</td>\n",
       "      <td>rat4</td>\n",
       "      <td>...</td>\n",
       "      <td>NaN</td>\n",
       "      <td>NaN</td>\n",
       "      <td>rat3</td>\n",
       "      <td>{\"What do you think of your Students' Union in...</td>\n",
       "      <td>NaN</td>\n",
       "      <td>NaN</td>\n",
       "      <td>rat5</td>\n",
       "      <td>NaN</td>\n",
       "      <td>rat4</td>\n",
       "      <td>{'How would you rate the variety of societies/...</td>\n",
       "    </tr>\n",
       "  </tbody>\n",
       "</table>\n",
       "<p>5 rows × 23 columns</p>\n",
       "</div>"
      ],
      "text/plain": [
       "                 name       date                                  degree  \\\n",
       "329  Student Reviewer  24 Feb 15                                 History   \n",
       "42              Sarah  22 Jan 20  Mathematics and Computer Science MMath   \n",
       "324  Student Reviewer  24 Feb 15                              Georgraphy   \n",
       "30             Laurie  24 Jan 20                       Mathematics MMath   \n",
       "152  Student Reviewer  12 Jan 18                         Economics MPhil   \n",
       "\n",
       "    score_OVERALL UNIVERSITY RATING  \\\n",
       "329                            rat4   \n",
       "42                             rat3   \n",
       "324                            rat4   \n",
       "30                             rat4   \n",
       "152                            rat4   \n",
       "\n",
       "                             OVERALL UNIVERSITY RATING score_Job Prospects  \\\n",
       "329  {'Tell us about your overall university experi...                rat4   \n",
       "42   {'Tell us about your overall university experi...                rat3   \n",
       "324  {'Tell us about your overall university experi...                rat4   \n",
       "30   {'Tell us about your overall university experi...                rat4   \n",
       "152  {'Tell us about your overall university experi...                rat1   \n",
       "\n",
       "                                         Job Prospects  \\\n",
       "329                                                NaN   \n",
       "42                                                 NaN   \n",
       "324                                                NaN   \n",
       "30   {'How does your uni make efforts to increase y...   \n",
       "152  {'How does your uni make efforts to increase y...   \n",
       "\n",
       "    score_Course and Lecturers Course and Lecturers score_Uni Facilities  ...  \\\n",
       "329                       rat4                  NaN                 rat3  ...   \n",
       "42                        rat3                  NaN                 rat4  ...   \n",
       "324                       rat4                  NaN                 rat3  ...   \n",
       "30                        rat4                  NaN                 rat5  ...   \n",
       "152                       rat3                  NaN                 rat4  ...   \n",
       "\n",
       "    score_Do you think your time at university this year has been value for money?  \\\n",
       "329                                                NaN                               \n",
       "42                                                 NaN                               \n",
       "324                                                NaN                               \n",
       "30                                                 NaN                               \n",
       "152                                                NaN                               \n",
       "\n",
       "    Do you think your time at university this year has been value for money?  \\\n",
       "329                                                NaN                         \n",
       "42                                                 NaN                         \n",
       "324                                                NaN                         \n",
       "30                                                 NaN                         \n",
       "152                                                NaN                         \n",
       "\n",
       "    score_Students' Union                                    Students' Union  \\\n",
       "329                  rat1                                                NaN   \n",
       "42                   rat1                                                NaN   \n",
       "324                  rat3                                                NaN   \n",
       "30                   rat2  {\"What do you think of your Students' Union in...   \n",
       "152                  rat3  {\"What do you think of your Students' Union in...   \n",
       "\n",
       "    score_Accommodation                                      Accommodation  \\\n",
       "329                rat5                                                NaN   \n",
       "42                 rat4                                                NaN   \n",
       "324                rat4                                                NaN   \n",
       "30                 rat3  {'What do you think about the safety, conditio...   \n",
       "152                 NaN                                                NaN   \n",
       "\n",
       "    score_Local life Local life score_Societies and Sports  \\\n",
       "329             rat5        NaN                       rat4   \n",
       "42              rat5        NaN                       rat3   \n",
       "324             rat4        NaN                       rat4   \n",
       "30              rat5        NaN                       rat5   \n",
       "152             rat5        NaN                       rat4   \n",
       "\n",
       "                                  Societies and Sports  \n",
       "329                                                NaN  \n",
       "42                                                 NaN  \n",
       "324                                                NaN  \n",
       "30                                                 NaN  \n",
       "152  {'How would you rate the variety of societies/...  \n",
       "\n",
       "[5 rows x 23 columns]"
      ]
     },
     "execution_count": 3,
     "metadata": {},
     "output_type": "execute_result"
    }
   ],
   "source": [
    "# Raw data\n",
    "dat_oxford.sample(5)"
   ]
  },
  {
   "cell_type": "markdown",
   "id": "1a6c5afb",
   "metadata": {},
   "source": [
    "### <font color='black'>Missing values</font>\n",
    "\n",
    "<font color='#404040'>We use *[missingno](https://github.com/ResidentMario/missingno)* to explore the patterns of missing values in the data. For all universities, the columns *name*, *date*, *Overall University Ranking* and *those related to the rating scores* have <u>no missing values</u>. However, the matrix of missing values is sparse for the remaining columns. In other words, the remaining columns, representing review categories, have <u>lots of missing values</u>. Text mining often requires a large amount of data. In such situation, we cannot take a feature (e.g. *Uni Facilities*) and feed it to the model because there are just too few non-missing observations.</font>\n",
    "\n",
    "<font color='#404040'>Dropping those columns can be a solution to the presence of a substantial amount of missing values. However, it may lead to a loss of information because reviews in the *Overall University Ranking* may not cover those in other review categories. Hence, we decide to concatenate the comments from different categories together, which represents an overall review from a student towards the university.</font>"
   ]
  },
  {
   "cell_type": "code",
   "execution_count": 4,
   "id": "1f428331",
   "metadata": {
    "scrolled": false
   },
   "outputs": [
    {
     "data": {
      "text/plain": [
       "<AxesSubplot:>"
      ]
     },
     "execution_count": 4,
     "metadata": {},
     "output_type": "execute_result"
    },
    {
     "data": {
      "image/png": "[encoded data removed]",
      "text/plain": [
       "<Figure size 432x288 with 2 Axes>"
      ]
     },
     "metadata": {
      "needs_background": "light"
     },
     "output_type": "display_data"
    },
    {
     "data": {
      "image/png": "[encoded data removed]",
      "text/plain": [
       "<Figure size 432x288 with 2 Axes>"
      ]
     },
     "metadata": {
      "needs_background": "light"
     },
     "output_type": "display_data"
    },
    {
     "data": {
      "image/png": "[encoded data removed]",
      "text/plain": [
       "<Figure size 432x288 with 2 Axes>"
      ]
     },
     "metadata": {
      "needs_background": "light"
     },
     "output_type": "display_data"
    }
   ],
   "source": [
    "# Missing values\n",
    "missingno.matrix(dat_oxford, figsize = (6, 4), fontsize = 5)\n",
    "missingno.matrix(dat_edinburgh, figsize = (6, 4), fontsize = 5)\n",
    "missingno.matrix(dat_warwick, figsize = (6, 4), fontsize = 5)"
   ]
  },
  {
   "cell_type": "markdown",
   "id": "5c6fcdfd",
   "metadata": {},
   "source": [
    "<font color='#404040'>Now, we write a function to concatenate reviews for each category together, as a global review. The function involves a looping for each category, and convert string to dictionary using *[ast.literal_eval](https://www.kite.com/python/answers/how-to-differentiate-eval()-and-ast.literal_eval()-in-python)* because each entry in the dataframe is stored as a dictionary during data collection.</font>"
   ]
  },
  {
   "cell_type": "code",
   "execution_count": 5,
   "id": "def669da",
   "metadata": {},
   "outputs": [],
   "source": [
    "def concat_comments(comments):\n",
    "    # Concatenate comments into a long string\n",
    "    summary = ''\n",
    "    \n",
    "    # Loop through each review category\n",
    "    for comment in comments:\n",
    "        \n",
    "        # If the category is not empty\n",
    "        if pd.isnull(comment) is False:\n",
    "            # Loop through each review question and answer within the same category\n",
    "            for key, val in ast.literal_eval(comment).items():\n",
    "                \n",
    "                # Update if the answer is not None\n",
    "                if val is not None:\n",
    "                    summary = summary + ' ' + val\n",
    "    \n",
    "    return summary"
   ]
  },
  {
   "cell_type": "markdown",
   "id": "05d2a518",
   "metadata": {},
   "source": [
    "<font color='#404040'>We create a new column called *reviews* which stores the concatenated comments, and remove observations that have only rating scores without leaving any textual comments.</font>"
   ]
  },
  {
   "cell_type": "code",
   "execution_count": 6,
   "id": "fed2fe1e",
   "metadata": {
    "scrolled": false
   },
   "outputs": [],
   "source": [
    "def clean_comments(dat_uni):\n",
    "    # Columns which do *not* start with \"score_\"\n",
    "    mask_score = ~dat_uni.columns.str.startswith('score_')\n",
    "    dat_uni = dat_uni[dat_uni.columns[mask_score]]\n",
    "    \n",
    "    # Reviews start at the 3rd columns\n",
    "    # axis = 1 for row-wise operation\n",
    "    return dat_uni[dat_uni.columns[3:]].apply(lambda x: concat_comments(x), axis = 1)"
   ]
  },
  {
   "cell_type": "code",
   "execution_count": 7,
   "id": "a67037e9",
   "metadata": {},
   "outputs": [],
   "source": [
    "# Store in the 'reviews' column\n",
    "dat_oxford['reviews'] = clean_comments(dat_oxford)\n",
    "dat_edinburgh['reviews'] = clean_comments(dat_edinburgh)\n",
    "dat_warwick['reviews'] = clean_comments(dat_warwick)"
   ]
  },
  {
   "cell_type": "code",
   "execution_count": 8,
   "id": "d427f68b",
   "metadata": {},
   "outputs": [],
   "source": [
    "def remove_empty(dat_uni):\n",
    "    # Rows with empty string in 'reviews' after stripping\n",
    "    mask_empty = (dat_uni['reviews'].str.strip() == '')\n",
    "    \n",
    "    # Remove mask_empty == True\n",
    "    return dat_uni[~mask_empty]"
   ]
  },
  {
   "cell_type": "code",
   "execution_count": 9,
   "id": "a2d34525",
   "metadata": {},
   "outputs": [],
   "source": [
    "# Remove observations with empty comments\n",
    "dat_oxford = remove_empty(dat_oxford)\n",
    "dat_edinburgh = remove_empty(dat_edinburgh)\n",
    "dat_warwick = remove_empty(dat_warwick)"
   ]
  },
  {
   "cell_type": "markdown",
   "id": "8a7446fe",
   "metadata": {},
   "source": [
    "### <font color='black'>Export data</font>\n",
    "\n",
    "<font color='#404040'>Now we have an initial understanding of the data, and they are saved under the *data* folder.</font>"
   ]
  },
  {
   "cell_type": "code",
   "execution_count": 10,
   "id": "e31b3ae2",
   "metadata": {},
   "outputs": [],
   "source": [
    "# Export data\n",
    "def export_data(dat_uni, name_uni):\n",
    "    # Columns which start with \"score_\"\n",
    "    mask_score = dat_uni.columns.str.startswith('score_')\n",
    "    selected_col = dat_uni.columns[mask_score].tolist()\n",
    "    \n",
    "    # Other columns\n",
    "    selected_col.extend(['name', 'date', 'degree', 'reviews'])\n",
    "    \n",
    "    # Save files\n",
    "    dat_uni[selected_col].to_csv('./data/' + name_uni + '_sum.csv', index = False)"
   ]
  },
  {
   "cell_type": "code",
   "execution_count": 11,
   "id": "1b08a814",
   "metadata": {},
   "outputs": [],
   "source": [
    "export_data(dat_oxford, 'oxford')\n",
    "export_data(dat_edinburgh, 'edinburgh')\n",
    "export_data(dat_warwick, 'warwick')"
   ]
  }
 ],
 "metadata": {
  "kernelspec": {
   "display_name": "Python 3",
   "language": "python",
   "name": "python3"
  },
  "language_info": {
   "codemirror_mode": {
    "name": "ipython",
    "version": 3
   },
   "file_extension": ".py",
   "mimetype": "text/x-python",
   "name": "python",
   "nbconvert_exporter": "python",
   "pygments_lexer": "ipython3",
   "version": "3.8.5"
  },
  "toc": {
   "base_numbering": 1,
   "nav_menu": {},
   "number_sections": false,
   "sideBar": true,
   "skip_h1_title": false,
   "title_cell": "Table of Contents",
   "title_sidebar": "Contents",
   "toc_cell": false,
   "toc_position": {
    "height": "calc(100% - 180px)",
    "left": "10px",
    "top": "150px",
    "width": "307.2px"
   },
   "toc_section_display": true,
   "toc_window_display": true
  }
 },
 "nbformat": 4,
 "nbformat_minor": 5
}
